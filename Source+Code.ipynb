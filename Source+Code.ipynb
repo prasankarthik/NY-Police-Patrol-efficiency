{
 "cells": [
  {
   "cell_type": "markdown",
   "metadata": {},
   "source": [
    "**NYPD Patrol Assistance System**"
   ]
  },
  {
   "cell_type": "code",
   "execution_count": null,
   "metadata": {
    "collapsed": true
   },
   "outputs": [],
   "source": [
    "#pyspark package has to be installed through command prompt "
   ]
  },
  {
   "cell_type": "code",
   "execution_count": 1,
   "metadata": {},
   "outputs": [
    {
     "ename": "ModuleNotFoundError",
     "evalue": "No module named 'pyspark'",
     "output_type": "error",
     "traceback": [
      "\u001b[1;31m---------------------------------------------------------------------------\u001b[0m",
      "\u001b[1;31mModuleNotFoundError\u001b[0m                       Traceback (most recent call last)",
      "\u001b[1;32m<ipython-input-1-21c67c4146ef>\u001b[0m in \u001b[0;36m<module>\u001b[1;34m()\u001b[0m\n\u001b[0;32m      1\u001b[0m \u001b[1;33m\u001b[0m\u001b[0m\n\u001b[0;32m      2\u001b[0m \u001b[1;32mimport\u001b[0m \u001b[0mpandas\u001b[0m \u001b[1;32mas\u001b[0m \u001b[0mpd\u001b[0m\u001b[1;33m\u001b[0m\u001b[0m\n\u001b[1;32m----> 3\u001b[1;33m \u001b[1;32mfrom\u001b[0m \u001b[0mpyspark\u001b[0m \u001b[1;32mimport\u001b[0m \u001b[0mSparkContext\u001b[0m\u001b[1;33m\u001b[0m\u001b[0m\n\u001b[0m\u001b[0;32m      4\u001b[0m \u001b[1;32mfrom\u001b[0m \u001b[0mpyspark\u001b[0m\u001b[1;33m.\u001b[0m\u001b[0msql\u001b[0m \u001b[1;32mimport\u001b[0m \u001b[0mSparkSession\u001b[0m\u001b[1;33m\u001b[0m\u001b[0m\n\u001b[0;32m      5\u001b[0m \u001b[1;32mfrom\u001b[0m \u001b[0mpyspark\u001b[0m\u001b[1;33m.\u001b[0m\u001b[0msql\u001b[0m \u001b[1;32mimport\u001b[0m \u001b[0mfunctions\u001b[0m \u001b[1;32mas\u001b[0m \u001b[0mfn\u001b[0m\u001b[1;33m\u001b[0m\u001b[0m\n",
      "\u001b[1;31mModuleNotFoundError\u001b[0m: No module named 'pyspark'"
     ]
    }
   ],
   "source": [
    "\n",
    "import pandas as pd\n",
    "from pyspark import SparkContext \n",
    "from pyspark.sql import SparkSession\n",
    "from pyspark.sql import functions as fn\n",
    "from pyspark.ml import feature\n",
    "from pyspark.ml import classification\n",
    "from pyspark.ml import Pipeline\n",
    "from pyspark.ml.evaluation import BinaryClassificationEvaluator, MulticlassClassificationEvaluator, RegressionEvaluator\n",
    "from pyspark.ml.tuning import CrossValidator, ParamGridBuilder\n",
    "from pyspark.ml.feature import Bucketizer\n",
    "from pyspark.ml.feature import StringIndexer\n",
    "from pyspark.mllib.evaluation import BinaryClassificationMetrics as metrics\n",
    "import matplotlib.pyplot as plt\n",
    "import seaborn as sns\n",
    "from sklearn.metrics import confusion_matrix"
   ]
  },
  {
   "cell_type": "markdown",
   "metadata": {},
   "source": [
    "**Data Source **\n",
    "\n",
    "The data can be obtained from the following Website:\n",
    "\n",
    "data.ny.gov in the name of \"Motor Vehicle Crashes - Case Information: Three Year Window\"\n",
    "\n",
    "\n",
    "**Versions of Software**\n",
    "\n",
    "\n",
    "The version of the software is Python 3.0 and Apache Spark 2.2.0"
   ]
  },
  {
   "cell_type": "code",
   "execution_count": 4,
   "metadata": {},
   "outputs": [
    {
     "data": {
      "text/html": [
       "<style scoped>\n",
       "  .ansiout {\n",
       "    display: block;\n",
       "    unicode-bidi: embed;\n",
       "    white-space: pre-wrap;\n",
       "    word-wrap: break-word;\n",
       "    word-break: break-all;\n",
       "    font-family: \"Source Code Pro\", \"Menlo\", monospace;;\n",
       "    font-size: 13px;\n",
       "    color: #555;\n",
       "    margin-left: 4px;\n",
       "    line-height: 19px;\n",
       "  }\n",
       "</style>\n",
       "<div class=\"ansiout\"><span class=\"ansired\">Out[</span><span class=\"ansired\">6</span><span class=\"ansired\">]: </span>pyspark.sql.dataframe.DataFrame\n",
       "</div>"
      ]
     },
     "metadata": {},
     "output_type": "display_data"
    }
   ],
   "source": [
    "#Loading data onto databricks as a spark dataframe\n",
    "myData = sqlContext.read.format(\"csv\").option(\"header\", \"true\").load(\"/FileStore/tables/Data.csv\")\n",
    "type(myData)"
   ]
  },
  {
   "cell_type": "code",
   "execution_count": 5,
   "metadata": {},
   "outputs": [
    {
     "data": {
      "text/html": [
       "<style scoped>\n",
       "  .ansiout {\n",
       "    display: block;\n",
       "    unicode-bidi: embed;\n",
       "    white-space: pre-wrap;\n",
       "    word-wrap: break-word;\n",
       "    word-break: break-all;\n",
       "    font-family: \"Source Code Pro\", \"Menlo\", monospace;;\n",
       "    font-size: 13px;\n",
       "    color: #555;\n",
       "    margin-left: 4px;\n",
       "    line-height: 19px;\n",
       "  }\n",
       "</style>\n",
       "<div class=\"ansiout\">+----+--------------------+-----+--------+-----------+-------------+-------------------+------------+-------------------------+-----------+------------------+------------------+----------------------+-----------------------+-----------------------------+---------------------------+--------------------+---------------------------+\n",
       "Year|    Crash Descriptor| Time|    Date|Day of Week|Police Report|Lighting Conditions|Municipality|Collision Type Descriptor|County Name|   Road Descriptor|Weather Conditions|Traffic Control Device|Road Surface Conditions|DOT Reference Marker Location|Pedestrian Bicyclist Action|    Event Descriptor|Number of Vehicles Involved|\n",
       "+----+--------------------+-----+--------+-----------+-------------+-------------------+------------+-------------------------+-----------+------------------+------------------+----------------------+-----------------------+-----------------------------+---------------------------+--------------------+---------------------------+\n",
       "2014|Property Damage A...| 8:30|1/3/2014|     Friday|            Y|           Daylight|   WATERTOWN|               OVERTAKING|  JEFFERSON|Straight and Level|             Clear|                  None|               Snow/Ice|                         null|             Not Applicable|Other Motor Vehic...|                          2|\n",
       "2014|      Fatal Accident|14:48|1/3/2014|     Friday|            Y|           Daylight|   WATERTOWN|                 REAR END|  JEFFERSON|Straight and Level|            Cloudy|        Traffic Signal|               Snow/Ice|                   3 73022024|             Not Applicable|Other Motor Vehic...|                          2|\n",
       "+----+--------------------+-----+--------+-----------+-------------+-------------------+------------+-------------------------+-----------+------------------+------------------+----------------------+-----------------------+-----------------------------+---------------------------+--------------------+---------------------------+\n",
       "only showing top 2 rows\n",
       "\n",
       "</div>"
      ]
     },
     "metadata": {},
     "output_type": "display_data"
    }
   ],
   "source": [
    "#Displaying data as a table\n",
    "myData.show(n=2)"
   ]
  },
  {
   "cell_type": "markdown",
   "metadata": {},
   "source": [
    "**Displaying the dimension of the data**"
   ]
  },
  {
   "cell_type": "code",
   "execution_count": 7,
   "metadata": {},
   "outputs": [
    {
     "data": {
      "text/html": [
       "<style scoped>\n",
       "  .ansiout {\n",
       "    display: block;\n",
       "    unicode-bidi: embed;\n",
       "    white-space: pre-wrap;\n",
       "    word-wrap: break-word;\n",
       "    word-break: break-all;\n",
       "    font-family: \"Source Code Pro\", \"Menlo\", monospace;;\n",
       "    font-size: 13px;\n",
       "    color: #555;\n",
       "    margin-left: 4px;\n",
       "    line-height: 19px;\n",
       "  }\n",
       "</style>\n",
       "<div class=\"ansiout\">Number of rows in the dataframe :  895916\n",
       "Number of columns in the dataframe : 18\n",
       "Breakdwon of Crash Descriptor: \n",
       "+--------------------+------+\n",
       "    Crash Descriptor| count|\n",
       "+--------------------+------+\n",
       "Property Damage A...|538018|\n",
       "      Fatal Accident|357898|\n",
       "+--------------------+------+\n",
       "\n",
       "</div>"
      ]
     },
     "metadata": {},
     "output_type": "display_data"
    }
   ],
   "source": [
    "#print((myData.count(), len(df.columns)))\n",
    "print 'Number of rows in the dataframe : ', myData.count()\n",
    "print 'Number of columns in the dataframe :' , len(myData.columns)\n",
    "#The predicted variable is Crash Descriptor - it has two values - Fatal Accident and Property Damage Accident\n",
    "#Displaying the breakdown of the Crash Descriptor categor variable\n",
    "print 'Breakdwon of Crash Descriptor: '\n",
    "myData.groupBy('Crash Descriptor').count().show()"
   ]
  },
  {
   "cell_type": "code",
   "execution_count": 8,
   "metadata": {},
   "outputs": [
    {
     "data": {
      "text/html": [
       "<style scoped>\n",
       "  .ansiout {\n",
       "    display: block;\n",
       "    unicode-bidi: embed;\n",
       "    white-space: pre-wrap;\n",
       "    word-wrap: break-word;\n",
       "    word-break: break-all;\n",
       "    font-family: \"Source Code Pro\", \"Menlo\", monospace;;\n",
       "    font-size: 13px;\n",
       "    color: #555;\n",
       "    margin-left: 4px;\n",
       "    line-height: 19px;\n",
       "  }\n",
       "</style>\n",
       "<div class=\"ansiout\"><span class=\"ansired\">Out[</span><span class=\"ansired\">6</span><span class=\"ansired\">]: </span>\n",
       "[&apos;Year&apos;,\n",
       " &apos;Crash Descriptor&apos;,\n",
       " &apos;Time&apos;,\n",
       " &apos;Date&apos;,\n",
       " &apos;Day of Week&apos;,\n",
       " &apos;Police Report&apos;,\n",
       " &apos;Lighting Conditions&apos;,\n",
       " &apos;Municipality&apos;,\n",
       " &apos;Collision Type Descriptor&apos;,\n",
       " &apos;County Name&apos;,\n",
       " &apos;Road Descriptor&apos;,\n",
       " &apos;Weather Conditions&apos;,\n",
       " &apos;Traffic Control Device&apos;,\n",
       " &apos;Road Surface Conditions&apos;,\n",
       " &apos;DOT Reference Marker Location&apos;,\n",
       " &apos;Pedestrian Bicyclist Action&apos;,\n",
       " &apos;Event Descriptor&apos;,\n",
       " &apos;Number of Vehicles Involved&apos;]\n",
       "</div>"
      ]
     },
     "metadata": {},
     "output_type": "display_data"
    }
   ],
   "source": [
    "#Displaying the column names\n",
    "myData.columns"
   ]
  },
  {
   "cell_type": "code",
   "execution_count": 9,
   "metadata": {},
   "outputs": [
    {
     "data": {
      "text/html": [
       "<style scoped>\n",
       "  .ansiout {\n",
       "    display: block;\n",
       "    unicode-bidi: embed;\n",
       "    white-space: pre-wrap;\n",
       "    word-wrap: break-word;\n",
       "    word-break: break-all;\n",
       "    font-family: \"Source Code Pro\", \"Menlo\", monospace;;\n",
       "    font-size: 13px;\n",
       "    color: #555;\n",
       "    margin-left: 4px;\n",
       "    line-height: 19px;\n",
       "  }\n",
       "</style>\n",
       "<div class=\"ansiout\"><span class=\"ansired\">Out[</span><span class=\"ansired\">7</span><span class=\"ansired\">]: </span>pyspark.sql.dataframe.DataFrame\n",
       "</div>"
      ]
     },
     "metadata": {},
     "output_type": "display_data"
    }
   ],
   "source": [
    "type(myData)"
   ]
  },
  {
   "cell_type": "code",
   "execution_count": 10,
   "metadata": {},
   "outputs": [
    {
     "data": {
      "text/html": [
       "<style scoped>\n",
       "  .ansiout {\n",
       "    display: block;\n",
       "    unicode-bidi: embed;\n",
       "    white-space: pre-wrap;\n",
       "    word-wrap: break-word;\n",
       "    word-break: break-all;\n",
       "    font-family: \"Source Code Pro\", \"Menlo\", monospace;;\n",
       "    font-size: 13px;\n",
       "    color: #555;\n",
       "    margin-left: 4px;\n",
       "    line-height: 19px;\n",
       "  }\n",
       "</style>\n",
       "<div class=\"ansiout\"></div>"
      ]
     },
     "metadata": {},
     "output_type": "display_data"
    }
   ],
   "source": [
    "#Converting the dataframe to a pandas dataframe to manipulate the variables\n",
    "Data_Pandas = myData.toPandas()\n"
   ]
  },
  {
   "cell_type": "code",
   "execution_count": 11,
   "metadata": {},
   "outputs": [
    {
     "data": {
      "text/html": [
       "<style scoped>\n",
       "  .ansiout {\n",
       "    display: block;\n",
       "    unicode-bidi: embed;\n",
       "    white-space: pre-wrap;\n",
       "    word-wrap: break-word;\n",
       "    word-break: break-all;\n",
       "    font-family: \"Source Code Pro\", \"Menlo\", monospace;;\n",
       "    font-size: 13px;\n",
       "    color: #555;\n",
       "    margin-left: 4px;\n",
       "    line-height: 19px;\n",
       "  }\n",
       "</style>\n",
       "<div class=\"ansiout\"></div>"
      ]
     },
     "metadata": {},
     "output_type": "display_data"
    }
   ],
   "source": [
    "#Extracting the time column from the dataframe\n",
    "Time = Data_Pandas['Time']\n",
    "#Extracting hour information from time\n",
    "Time = Time.map(lambda x:x.split(':'))\n",
    "Time = Time.map(lambda x: x[0])"
   ]
  },
  {
   "cell_type": "code",
   "execution_count": 12,
   "metadata": {},
   "outputs": [
    {
     "data": {
      "text/html": [
       "<style scoped>\n",
       "  .ansiout {\n",
       "    display: block;\n",
       "    unicode-bidi: embed;\n",
       "    white-space: pre-wrap;\n",
       "    word-wrap: break-word;\n",
       "    word-break: break-all;\n",
       "    font-family: \"Source Code Pro\", \"Menlo\", monospace;;\n",
       "    font-size: 13px;\n",
       "    color: #555;\n",
       "    margin-left: 4px;\n",
       "    line-height: 19px;\n",
       "  }\n",
       "</style>\n",
       "<div class=\"ansiout\"><span class=\"ansired\">Out[</span><span class=\"ansired\">17</span><span class=\"ansired\">]: </span>\n",
       "0          8\n",
       "1         14\n",
       "2         11\n",
       "3          7\n",
       "4         15\n",
       "5         17\n",
       "6         15\n",
       "7         11\n",
       "8         15\n",
       "9          8\n",
       "10        16\n",
       "11        14\n",
       "12        10\n",
       "13         8\n",
       "14        10\n",
       "15        16\n",
       "16        15\n",
       "17        15\n",
       "18         9\n",
       "19        17\n",
       "20        14\n",
       "21         9\n",
       "22        13\n",
       "23        20\n",
       "24        18\n",
       "25        13\n",
       "26        16\n",
       "27        20\n",
       "28        21\n",
       "29        16\n",
       "          ..\n",
       "895886     9\n",
       "895887    13\n",
       "895888     8\n",
       "895889     8\n",
       "895890    16\n",
       "895891    14\n",
       "895892     6\n",
       "895893    22\n",
       "895894    13\n",
       "895895    21\n",
       "895896    21\n",
       "895897     0\n",
       "895898    12\n",
       "895899     0\n",
       "895900     9\n",
       "895901     9\n",
       "895902     1\n",
       "895903     9\n",
       "895904     6\n",
       "895905    15\n",
       "895906    12\n",
       "895907     1\n",
       "895908    13\n",
       "895909    16\n",
       "895910     1\n",
       "895911    15\n",
       "895912    15\n",
       "895913    19\n",
       "895914    14\n",
       "895915    15\n",
       "Name: Time, dtype: object\n",
       "</div>"
      ]
     },
     "metadata": {},
     "output_type": "display_data"
    }
   ],
   "source": [
    "#Extracted the hour alone after eliminating the minutes\n",
    "Time"
   ]
  },
  {
   "cell_type": "code",
   "execution_count": 13,
   "metadata": {},
   "outputs": [
    {
     "data": {
      "text/html": [
       "<style scoped>\n",
       "  .ansiout {\n",
       "    display: block;\n",
       "    unicode-bidi: embed;\n",
       "    white-space: pre-wrap;\n",
       "    word-wrap: break-word;\n",
       "    word-break: break-all;\n",
       "    font-family: \"Source Code Pro\", \"Menlo\", monospace;;\n",
       "    font-size: 13px;\n",
       "    color: #555;\n",
       "    margin-left: 4px;\n",
       "    line-height: 19px;\n",
       "  }\n",
       "</style>\n",
       "<div class=\"ansiout\"></div>"
      ]
     },
     "metadata": {},
     "output_type": "display_data"
    }
   ],
   "source": [
    "#Extracting date column from the dataframe\n",
    "Date = Data_Pandas['Date']\n",
    "#Extracting month information from date\n",
    "Date = Date.map(lambda x:x.split('/'))\n",
    "Date  = Date.map(lambda x:x[0])"
   ]
  },
  {
   "cell_type": "code",
   "execution_count": 14,
   "metadata": {},
   "outputs": [
    {
     "data": {
      "text/html": [
       "<style scoped>\n",
       "  .ansiout {\n",
       "    display: block;\n",
       "    unicode-bidi: embed;\n",
       "    white-space: pre-wrap;\n",
       "    word-wrap: break-word;\n",
       "    word-break: break-all;\n",
       "    font-family: \"Source Code Pro\", \"Menlo\", monospace;;\n",
       "    font-size: 13px;\n",
       "    color: #555;\n",
       "    margin-left: 4px;\n",
       "    line-height: 19px;\n",
       "  }\n",
       "</style>\n",
       "<div class=\"ansiout\"></div>"
      ]
     },
     "metadata": {},
     "output_type": "display_data"
    }
   ],
   "source": [
    "#Deleting date and time column from original dataframe to avoid problems while merging\n",
    "del Data_Pandas['Date']\n",
    "del Data_Pandas['Time']"
   ]
  },
  {
   "cell_type": "code",
   "execution_count": 15,
   "metadata": {},
   "outputs": [
    {
     "data": {
      "text/html": [
       "<style scoped>\n",
       "  .ansiout {\n",
       "    display: block;\n",
       "    unicode-bidi: embed;\n",
       "    white-space: pre-wrap;\n",
       "    word-wrap: break-word;\n",
       "    word-break: break-all;\n",
       "    font-family: \"Source Code Pro\", \"Menlo\", monospace;;\n",
       "    font-size: 13px;\n",
       "    color: #555;\n",
       "    margin-left: 4px;\n",
       "    line-height: 19px;\n",
       "  }\n",
       "</style>\n",
       "<div class=\"ansiout\"><span class=\"ansired\">Out[</span><span class=\"ansired\">21</span><span class=\"ansired\">]: </span>\n",
       "Index([u&apos;Year&apos;, u&apos;Crash Descriptor&apos;, u&apos;Day of Week&apos;, u&apos;Police Report&apos;,\n",
       "       u&apos;Lighting Conditions&apos;, u&apos;Municipality&apos;, u&apos;Collision Type Descriptor&apos;,\n",
       "       u&apos;County Name&apos;, u&apos;Road Descriptor&apos;, u&apos;Weather Conditions&apos;,\n",
       "       u&apos;Traffic Control Device&apos;, u&apos;Road Surface Conditions&apos;,\n",
       "       u&apos;DOT Reference Marker Location&apos;, u&apos;Pedestrian Bicyclist Action&apos;,\n",
       "       u&apos;Event Descriptor&apos;, u&apos;Number of Vehicles Involved&apos;],\n",
       "      dtype=&apos;object&apos;)\n",
       "</div>"
      ]
     },
     "metadata": {},
     "output_type": "display_data"
    }
   ],
   "source": [
    "#Displaying columns without date and time\n",
    "Data_Pandas.columns"
   ]
  },
  {
   "cell_type": "code",
   "execution_count": 16,
   "metadata": {},
   "outputs": [
    {
     "data": {
      "text/html": [
       "<style scoped>\n",
       "  .ansiout {\n",
       "    display: block;\n",
       "    unicode-bidi: embed;\n",
       "    white-space: pre-wrap;\n",
       "    word-wrap: break-word;\n",
       "    word-break: break-all;\n",
       "    font-family: \"Source Code Pro\", \"Menlo\", monospace;;\n",
       "    font-size: 13px;\n",
       "    color: #555;\n",
       "    margin-left: 4px;\n",
       "    line-height: 19px;\n",
       "  }\n",
       "</style>\n",
       "<div class=\"ansiout\"></div>"
      ]
     },
     "metadata": {},
     "output_type": "display_data"
    }
   ],
   "source": [
    "#Joining the new date and time columns  to the dataframe\n",
    "Data_Pandas = Data_Pandas.join(Time,how = \"outer\")\n",
    "Data_Pandas = Data_Pandas.join(Date,how = \"outer\")\n",
    "#Renaming the date column as Month\n",
    "Data_Pandas = Data_Pandas.rename(columns = {'Date':'Month'})"
   ]
  },
  {
   "cell_type": "code",
   "execution_count": 17,
   "metadata": {},
   "outputs": [
    {
     "data": {
      "text/html": [
       "<style scoped>\n",
       "  .ansiout {\n",
       "    display: block;\n",
       "    unicode-bidi: embed;\n",
       "    white-space: pre-wrap;\n",
       "    word-wrap: break-word;\n",
       "    word-break: break-all;\n",
       "    font-family: \"Source Code Pro\", \"Menlo\", monospace;;\n",
       "    font-size: 13px;\n",
       "    color: #555;\n",
       "    margin-left: 4px;\n",
       "    line-height: 19px;\n",
       "  }\n",
       "</style>\n",
       "<div class=\"ansiout\"><span class=\"ansired\">Out[</span><span class=\"ansired\">16</span><span class=\"ansired\">]: </span>\n",
       "Year                                                            2016\n",
       "Crash Descriptor                            Property Damage Accident\n",
       "Day of Week                                                   Monday\n",
       "Police Report                                                      Y\n",
       "Lighting Conditions                                         Daylight\n",
       "Municipality                                               HEMPSTEAD\n",
       "Collision Type Descriptor                                      OTHER\n",
       "County Name                                                   NASSAU\n",
       "Road Descriptor                                   Straight and Level\n",
       "Weather Conditions                                             Clear\n",
       "Traffic Control Device                                          None\n",
       "Road Surface Conditions                                          Dry\n",
       "DOT Reference Marker Location                                   None\n",
       "Pedestrian Bicyclist Action                           Not Applicable\n",
       "Event Descriptor                 Other Motor Vehicle, Collision With\n",
       "Number of Vehicles Involved                                        6\n",
       "Time                                                              16\n",
       "Month                                                             10\n",
       "Name: 818078, dtype: object\n",
       "</div>"
      ]
     },
     "metadata": {},
     "output_type": "display_data"
    }
   ],
   "source": [
    "#Validating the join by checking a random row value\n",
    "Data_Pandas.iloc[818078]"
   ]
  },
  {
   "cell_type": "code",
   "execution_count": 18,
   "metadata": {},
   "outputs": [
    {
     "data": {
      "text/html": [
       "<style scoped>\n",
       "  .ansiout {\n",
       "    display: block;\n",
       "    unicode-bidi: embed;\n",
       "    white-space: pre-wrap;\n",
       "    word-wrap: break-word;\n",
       "    word-break: break-all;\n",
       "    font-family: \"Source Code Pro\", \"Menlo\", monospace;;\n",
       "    font-size: 13px;\n",
       "    color: #555;\n",
       "    margin-left: 4px;\n",
       "    line-height: 19px;\n",
       "  }\n",
       "</style>\n",
       "<div class=\"ansiout\"><span class=\"ansired\">Out[</span><span class=\"ansired\">33</span><span class=\"ansired\">]: </span>\n",
       "Index([u&apos;Year&apos;, u&apos;Crash Descriptor&apos;, u&apos;Day of Week&apos;, u&apos;Police Report&apos;,\n",
       "       u&apos;Lighting Conditions&apos;, u&apos;Municipality&apos;, u&apos;Collision Type Descriptor&apos;,\n",
       "       u&apos;County Name&apos;, u&apos;Road Descriptor&apos;, u&apos;Weather Conditions&apos;,\n",
       "       u&apos;Traffic Control Device&apos;, u&apos;Road Surface Conditions&apos;,\n",
       "       u&apos;DOT Reference Marker Location&apos;, u&apos;Pedestrian Bicyclist Action&apos;,\n",
       "       u&apos;Event Descriptor&apos;, u&apos;Number of Vehicles Involved&apos;, u&apos;Time&apos;, u&apos;Date&apos;],\n",
       "      dtype=&apos;object&apos;)\n",
       "</div>"
      ]
     },
     "metadata": {},
     "output_type": "display_data"
    }
   ],
   "source": [
    "#Display columns for validation\n",
    "Data_Pandas.columns"
   ]
  },
  {
   "cell_type": "code",
   "execution_count": 19,
   "metadata": {},
   "outputs": [
    {
     "data": {
      "text/html": [
       "<style scoped>\n",
       "  .ansiout {\n",
       "    display: block;\n",
       "    unicode-bidi: embed;\n",
       "    white-space: pre-wrap;\n",
       "    word-wrap: break-word;\n",
       "    word-break: break-all;\n",
       "    font-family: \"Source Code Pro\", \"Menlo\", monospace;;\n",
       "    font-size: 13px;\n",
       "    color: #555;\n",
       "    margin-left: 4px;\n",
       "    line-height: 19px;\n",
       "  }\n",
       "</style>\n",
       "<div class=\"ansiout\"></div>"
      ]
     },
     "metadata": {},
     "output_type": "display_data"
    }
   ],
   "source": [
    "#Crash descriptor has two category of values  - Fatal Accident or Property Damage Accident\n",
    "#We are trying to predict whether there is a possibility of Fatal accident occuring\n",
    "#Creating a variable Fatal Accident that has a Y or N depending on the value in Crash descriptor \n",
    "Data_Pandas['Fatal Accident'] = Data_Pandas['Crash Descriptor'].apply(lambda x: 1.0 if x == 'Fatal Accident' else 0.0)"
   ]
  },
  {
   "cell_type": "code",
   "execution_count": 20,
   "metadata": {},
   "outputs": [
    {
     "data": {
      "text/html": [
       "<style scoped>\n",
       "  .ansiout {\n",
       "    display: block;\n",
       "    unicode-bidi: embed;\n",
       "    white-space: pre-wrap;\n",
       "    word-wrap: break-word;\n",
       "    word-break: break-all;\n",
       "    font-family: \"Source Code Pro\", \"Menlo\", monospace;;\n",
       "    font-size: 13px;\n",
       "    color: #555;\n",
       "    margin-left: 4px;\n",
       "    line-height: 19px;\n",
       "  }\n",
       "</style>\n",
       "<div class=\"ansiout\"><span class=\"ansired\">Out[</span><span class=\"ansired\">19</span><span class=\"ansired\">]: </span>\n",
       "Index([u&apos;Year&apos;, u&apos;Crash Descriptor&apos;, u&apos;Day of Week&apos;, u&apos;Police Report&apos;,\n",
       "       u&apos;Lighting Conditions&apos;, u&apos;Municipality&apos;, u&apos;Collision Type Descriptor&apos;,\n",
       "       u&apos;County Name&apos;, u&apos;Road Descriptor&apos;, u&apos;Weather Conditions&apos;,\n",
       "       u&apos;Traffic Control Device&apos;, u&apos;Road Surface Conditions&apos;,\n",
       "       u&apos;DOT Reference Marker Location&apos;, u&apos;Pedestrian Bicyclist Action&apos;,\n",
       "       u&apos;Event Descriptor&apos;, u&apos;Number of Vehicles Involved&apos;, u&apos;Time&apos;, u&apos;Month&apos;,\n",
       "       u&apos;Fatal Accident&apos;],\n",
       "      dtype=&apos;object&apos;)\n",
       "</div>"
      ]
     },
     "metadata": {},
     "output_type": "display_data"
    }
   ],
   "source": [
    "#Validating the join\n",
    "Data_Pandas.columns"
   ]
  },
  {
   "cell_type": "code",
   "execution_count": 21,
   "metadata": {},
   "outputs": [
    {
     "data": {
      "text/html": [
       "<style scoped>\n",
       "  .ansiout {\n",
       "    display: block;\n",
       "    unicode-bidi: embed;\n",
       "    white-space: pre-wrap;\n",
       "    word-wrap: break-word;\n",
       "    word-break: break-all;\n",
       "    font-family: \"Source Code Pro\", \"Menlo\", monospace;;\n",
       "    font-size: 13px;\n",
       "    color: #555;\n",
       "    margin-left: 4px;\n",
       "    line-height: 19px;\n",
       "  }\n",
       "</style>\n",
       "<div class=\"ansiout\"><span class=\"ansired\">Out[</span><span class=\"ansired\">20</span><span class=\"ansired\">]: </span>False\n",
       "</div>"
      ]
     },
     "metadata": {},
     "output_type": "display_data"
    }
   ],
   "source": [
    "#Checking for NULL values in the predicted variable\n",
    "Data_Pandas['Fatal Accident'].isnull().values.any()"
   ]
  },
  {
   "cell_type": "code",
   "execution_count": 22,
   "metadata": {},
   "outputs": [
    {
     "data": {
      "text/html": [
       "<style scoped>\n",
       "  .ansiout {\n",
       "    display: block;\n",
       "    unicode-bidi: embed;\n",
       "    white-space: pre-wrap;\n",
       "    word-wrap: break-word;\n",
       "    word-break: break-all;\n",
       "    font-family: \"Source Code Pro\", \"Menlo\", monospace;;\n",
       "    font-size: 13px;\n",
       "    color: #555;\n",
       "    margin-left: 4px;\n",
       "    line-height: 19px;\n",
       "  }\n",
       "</style>\n",
       "<div class=\"ansiout\"><span class=\"ansired\">Out[</span><span class=\"ansired\">21</span><span class=\"ansired\">]: </span>\n",
       "count    895916.000000\n",
       "mean          0.399477\n",
       "std           0.489791\n",
       "min           0.000000\n",
       "25%           0.000000\n",
       "50%           0.000000\n",
       "75%           1.000000\n",
       "max           1.000000\n",
       "Name: Fatal Accident, dtype: float64\n",
       "</div>"
      ]
     },
     "metadata": {},
     "output_type": "display_data"
    }
   ],
   "source": [
    "Data_Pandas['Fatal Accident'].describe(include = 'all')"
   ]
  },
  {
   "cell_type": "code",
   "execution_count": 23,
   "metadata": {},
   "outputs": [
    {
     "data": {
      "text/html": [
       "<style scoped>\n",
       "  .ansiout {\n",
       "    display: block;\n",
       "    unicode-bidi: embed;\n",
       "    white-space: pre-wrap;\n",
       "    word-wrap: break-word;\n",
       "    word-break: break-all;\n",
       "    font-family: \"Source Code Pro\", \"Menlo\", monospace;;\n",
       "    font-size: 13px;\n",
       "    color: #555;\n",
       "    margin-left: 4px;\n",
       "    line-height: 19px;\n",
       "  }\n",
       "</style>\n",
       "<div class=\"ansiout\"></div>"
      ]
     },
     "metadata": {},
     "output_type": "display_data"
    }
   ],
   "source": [
    "#Converting the pandas dataframe to a spark dataframe\n",
    "Data = sqlContext.createDataFrame(Data_Pandas)\n"
   ]
  },
  {
   "cell_type": "code",
   "execution_count": 24,
   "metadata": {},
   "outputs": [
    {
     "data": {
      "text/html": [
       "<style scoped>\n",
       "  .ansiout {\n",
       "    display: block;\n",
       "    unicode-bidi: embed;\n",
       "    white-space: pre-wrap;\n",
       "    word-wrap: break-word;\n",
       "    word-break: break-all;\n",
       "    font-family: \"Source Code Pro\", \"Menlo\", monospace;;\n",
       "    font-size: 13px;\n",
       "    color: #555;\n",
       "    margin-left: 4px;\n",
       "    line-height: 19px;\n",
       "  }\n",
       "</style>\n",
       "<div class=\"ansiout\"><span class=\"ansired\">Out[</span><span class=\"ansired\">22</span><span class=\"ansired\">]: </span>\n",
       "[&apos;Year&apos;,\n",
       " &apos;Crash Descriptor&apos;,\n",
       " &apos;Day of Week&apos;,\n",
       " &apos;Police Report&apos;,\n",
       " &apos;Lighting Conditions&apos;,\n",
       " &apos;Municipality&apos;,\n",
       " &apos;Collision Type Descriptor&apos;,\n",
       " &apos;County Name&apos;,\n",
       " &apos;Road Descriptor&apos;,\n",
       " &apos;Weather Conditions&apos;,\n",
       " &apos;Traffic Control Device&apos;,\n",
       " &apos;Road Surface Conditions&apos;,\n",
       " &apos;DOT Reference Marker Location&apos;,\n",
       " &apos;Pedestrian Bicyclist Action&apos;,\n",
       " &apos;Event Descriptor&apos;,\n",
       " &apos;Number of Vehicles Involved&apos;,\n",
       " &apos;Time&apos;,\n",
       " &apos;Month&apos;,\n",
       " &apos;Fatal Accident&apos;]\n",
       "</div>"
      ]
     },
     "metadata": {},
     "output_type": "display_data"
    }
   ],
   "source": [
    "#Displaying the columns of spark dataframe\n",
    "Data.columns"
   ]
  },
  {
   "cell_type": "markdown",
   "metadata": {},
   "source": [
    "**Data Splitting**\n",
    "\n",
    "The data is split into three parts:\n",
    "\n",
    "**Training**: To fit the model\n",
    "\n",
    "**Validation**: For Model Selection\n",
    "\n",
    "**Testing**:For Testing the Model"
   ]
  },
  {
   "cell_type": "code",
   "execution_count": 26,
   "metadata": {},
   "outputs": [
    {
     "data": {
      "text/html": [
       "<style scoped>\n",
       "  .ansiout {\n",
       "    display: block;\n",
       "    unicode-bidi: embed;\n",
       "    white-space: pre-wrap;\n",
       "    word-wrap: break-word;\n",
       "    word-break: break-all;\n",
       "    font-family: \"Source Code Pro\", \"Menlo\", monospace;;\n",
       "    font-size: 13px;\n",
       "    color: #555;\n",
       "    margin-left: 4px;\n",
       "    line-height: 19px;\n",
       "  }\n",
       "</style>\n",
       "<div class=\"ansiout\"></div>"
      ]
     },
     "metadata": {},
     "output_type": "display_data"
    }
   ],
   "source": [
    "#Splitting the data into test and train\n",
    "training,validation,test = Data.randomSplit([0.7, 0.2,0.1], 0)"
   ]
  },
  {
   "cell_type": "code",
   "execution_count": 27,
   "metadata": {},
   "outputs": [
    {
     "data": {
      "text/html": [
       "<style scoped>\n",
       "  .ansiout {\n",
       "    display: block;\n",
       "    unicode-bidi: embed;\n",
       "    white-space: pre-wrap;\n",
       "    word-wrap: break-word;\n",
       "    word-break: break-all;\n",
       "    font-family: \"Source Code Pro\", \"Menlo\", monospace;;\n",
       "    font-size: 13px;\n",
       "    color: #555;\n",
       "    margin-left: 4px;\n",
       "    line-height: 19px;\n",
       "  }\n",
       "</style>\n",
       "<div class=\"ansiout\"></div>"
      ]
     },
     "metadata": {},
     "output_type": "display_data"
    }
   ],
   "source": [
    "#Bucketizing Time variable\n",
    "#Bins for Time\n",
    "splits = [0,2,4,6,8,10,12,14,16,18,20,22,24]"
   ]
  },
  {
   "cell_type": "markdown",
   "metadata": {},
   "source": [
    "MODEL 1: **Logistic Regression** (with elastic net Regularization)\n",
    "\n",
    "The feature Engineering techniques used are:\n",
    "\n",
    "**StringIndexer**\n",
    "\n",
    "**OneHotEncoder**\n",
    "\n",
    "**Bucketizer**(For Time)\n",
    "\n",
    "All these techniques are pipelined and the Machine Learning models are fitted with the training data and validated on validation data"
   ]
  },
  {
   "cell_type": "code",
   "execution_count": 29,
   "metadata": {},
   "outputs": [
    {
     "data": {
      "text/html": [
       "<style scoped>\n",
       "  .ansiout {\n",
       "    display: block;\n",
       "    unicode-bidi: embed;\n",
       "    white-space: pre-wrap;\n",
       "    word-wrap: break-word;\n",
       "    word-break: break-all;\n",
       "    font-family: \"Source Code Pro\", \"Menlo\", monospace;;\n",
       "    font-size: 13px;\n",
       "    color: #555;\n",
       "    margin-left: 4px;\n",
       "    line-height: 19px;\n",
       "  }\n",
       "</style>\n",
       "<div class=\"ansiout\"></div>"
      ]
     },
     "metadata": {},
     "output_type": "display_data"
    }
   ],
   "source": [
    "#Model 1 - Logistic Regression\n",
    "model1 = Pipeline(stages=[feature.StringIndexer(inputCol='Month', outputCol='encoded_Month'),\n",
    "                          feature.StringIndexer(inputCol = 'County Name',outputCol = 'encoded_County'),\n",
    "                          feature.StringIndexer(inputCol = 'Day of Week',outputCol = 'encoded_Day'),\n",
    "                          feature.StringIndexer(inputCol = 'Fatal Accident',outputCol = 'encoded_Fatalaccident'),\n",
    "                          feature.StringIndexer(inputCol = 'Time',outputCol = 'encoded_Time'),\n",
    "                          feature.OneHotEncoder(inputCol = 'encoded_Month',outputCol = 'final_Month'),\n",
    "                          feature.OneHotEncoder(inputCol = 'encoded_Day',outputCol = 'final_Day'),\n",
    "                          feature.OneHotEncoder(inputCol = 'encoded_County',outputCol = 'final_County'),\n",
    "                          feature.Bucketizer(splits=splits, inputCol='encoded_Time', outputCol=\"bucketed_Time\"),\n",
    "  feature.VectorAssembler(inputCols = ['final_Month','final_Day','bucketed_Time','final_County'],outputCol = 'final_features'),\n",
    " classification.LogisticRegression(labelCol='encoded_Fatalaccident', featuresCol='final_features',regParam = 0.1,elasticNetParam = 0.001)])"
   ]
  },
  {
   "cell_type": "code",
   "execution_count": 30,
   "metadata": {},
   "outputs": [
    {
     "data": {
      "text/html": [
       "<style scoped>\n",
       "  .ansiout {\n",
       "    display: block;\n",
       "    unicode-bidi: embed;\n",
       "    white-space: pre-wrap;\n",
       "    word-wrap: break-word;\n",
       "    word-break: break-all;\n",
       "    font-family: \"Source Code Pro\", \"Menlo\", monospace;;\n",
       "    font-size: 13px;\n",
       "    color: #555;\n",
       "    margin-left: 4px;\n",
       "    line-height: 19px;\n",
       "  }\n",
       "</style>\n",
       "<div class=\"ansiout\"></div>"
      ]
     },
     "metadata": {},
     "output_type": "display_data"
    }
   ],
   "source": [
    "#Fitting model1 with training data\n",
    "fit1 = model1.fit(training)"
   ]
  },
  {
   "cell_type": "code",
   "execution_count": 31,
   "metadata": {},
   "outputs": [
    {
     "data": {
      "text/html": [
       "<style scoped>\n",
       "  .ansiout {\n",
       "    display: block;\n",
       "    unicode-bidi: embed;\n",
       "    white-space: pre-wrap;\n",
       "    word-wrap: break-word;\n",
       "    word-break: break-all;\n",
       "    font-family: \"Source Code Pro\", \"Menlo\", monospace;;\n",
       "    font-size: 13px;\n",
       "    color: #555;\n",
       "    margin-left: 4px;\n",
       "    line-height: 19px;\n",
       "  }\n",
       "</style>\n",
       "<div class=\"ansiout\"></div>"
      ]
     },
     "metadata": {},
     "output_type": "display_data"
    }
   ],
   "source": [
    "#Using model1 to predict occurance of fatal acciden using validation data\n",
    "dataframe1 = fit1.transform(validation)"
   ]
  },
  {
   "cell_type": "code",
   "execution_count": 32,
   "metadata": {},
   "outputs": [
    {
     "data": {
      "text/html": [
       "<style scoped>\n",
       "  .ansiout {\n",
       "    display: block;\n",
       "    unicode-bidi: embed;\n",
       "    white-space: pre-wrap;\n",
       "    word-wrap: break-word;\n",
       "    word-break: break-all;\n",
       "    font-family: \"Source Code Pro\", \"Menlo\", monospace;;\n",
       "    font-size: 13px;\n",
       "    color: #555;\n",
       "    margin-left: 4px;\n",
       "    line-height: 19px;\n",
       "  }\n",
       "</style>\n",
       "<div class=\"ansiout\"><span class=\"ansired\">Out[</span><span class=\"ansired\">33</span><span class=\"ansired\">]: </span>\n",
       "[&apos;Year&apos;,\n",
       " &apos;Crash Descriptor&apos;,\n",
       " &apos;Day of Week&apos;,\n",
       " &apos;Police Report&apos;,\n",
       " &apos;Lighting Conditions&apos;,\n",
       " &apos;Municipality&apos;,\n",
       " &apos;Collision Type Descriptor&apos;,\n",
       " &apos;County Name&apos;,\n",
       " &apos;Road Descriptor&apos;,\n",
       " &apos;Weather Conditions&apos;,\n",
       " &apos;Traffic Control Device&apos;,\n",
       " &apos;Road Surface Conditions&apos;,\n",
       " &apos;DOT Reference Marker Location&apos;,\n",
       " &apos;Pedestrian Bicyclist Action&apos;,\n",
       " &apos;Event Descriptor&apos;,\n",
       " &apos;Number of Vehicles Involved&apos;,\n",
       " &apos;Time&apos;,\n",
       " &apos;Month&apos;,\n",
       " &apos;Fatal Accident&apos;,\n",
       " &apos;encoded_Month&apos;,\n",
       " &apos;encoded_County&apos;,\n",
       " &apos;encoded_Day&apos;,\n",
       " &apos;encoded_Fatalaccident&apos;,\n",
       " &apos;encoded_Time&apos;,\n",
       " &apos;final_Month&apos;,\n",
       " &apos;final_Day&apos;,\n",
       " &apos;final_County&apos;,\n",
       " &apos;bucketed_Time&apos;,\n",
       " &apos;final_features&apos;,\n",
       " &apos;rawPrediction&apos;,\n",
       " &apos;probability&apos;,\n",
       " &apos;prediction&apos;]\n",
       "</div>"
      ]
     },
     "metadata": {},
     "output_type": "display_data"
    }
   ],
   "source": [
    "dataframe1.schema.names"
   ]
  },
  {
   "cell_type": "code",
   "execution_count": 33,
   "metadata": {},
   "outputs": [
    {
     "data": {
      "text/html": [
       "<style scoped>\n",
       "  .ansiout {\n",
       "    display: block;\n",
       "    unicode-bidi: embed;\n",
       "    white-space: pre-wrap;\n",
       "    word-wrap: break-word;\n",
       "    word-break: break-all;\n",
       "    font-family: \"Source Code Pro\", \"Menlo\", monospace;;\n",
       "    font-size: 13px;\n",
       "    color: #555;\n",
       "    margin-left: 4px;\n",
       "    line-height: 19px;\n",
       "  }\n",
       "</style>\n",
       "<div class=\"ansiout\"></div>"
      ]
     },
     "metadata": {},
     "output_type": "display_data"
    }
   ],
   "source": [
    "#Prediction vs Actual for model1\n",
    "df1 = dataframe1.select('Prediction','Fatal Accident')"
   ]
  },
  {
   "cell_type": "code",
   "execution_count": 34,
   "metadata": {},
   "outputs": [
    {
     "data": {
      "text/html": [
       "<style scoped>\n",
       "  .ansiout {\n",
       "    display: block;\n",
       "    unicode-bidi: embed;\n",
       "    white-space: pre-wrap;\n",
       "    word-wrap: break-word;\n",
       "    word-break: break-all;\n",
       "    font-family: \"Source Code Pro\", \"Menlo\", monospace;;\n",
       "    font-size: 13px;\n",
       "    color: #555;\n",
       "    margin-left: 4px;\n",
       "    line-height: 19px;\n",
       "  }\n",
       "</style>\n",
       "<div class=\"ansiout\"><span class=\"ansired\">Out[</span><span class=\"ansired\">29</span><span class=\"ansired\">]: </span>Row(Prediction=0.0, Fatal Accident=1.0)\n",
       "</div>"
      ]
     },
     "metadata": {},
     "output_type": "display_data"
    }
   ],
   "source": [
    "df1.head()"
   ]
  },
  {
   "cell_type": "code",
   "execution_count": 35,
   "metadata": {},
   "outputs": [
    {
     "data": {
      "text/html": [
       "<style scoped>\n",
       "  .ansiout {\n",
       "    display: block;\n",
       "    unicode-bidi: embed;\n",
       "    white-space: pre-wrap;\n",
       "    word-wrap: break-word;\n",
       "    word-break: break-all;\n",
       "    font-family: \"Source Code Pro\", \"Menlo\", monospace;;\n",
       "    font-size: 13px;\n",
       "    color: #555;\n",
       "    margin-left: 4px;\n",
       "    line-height: 19px;\n",
       "  }\n",
       "</style>\n",
       "<div class=\"ansiout\"><span class=\"ansired\">Out[</span><span class=\"ansired\">51</span><span class=\"ansired\">]: </span>DenseVector([-0.1382, -0.0764, 0.0183, -0.0531, 0.0642, 0.0933, -0.1652, 0.0633, 0.0905, 0.1075, -0.092, -0.0144, -0.0056, -0.0038, -0.0017, -0.0035, 0.0079, -0.0134, -0.085, -0.0161, 0.7918, 0.9796, -0.0129, -0.0623, -0.2379, 0.7078, 0.9728, -0.2073, -0.3254, -0.3314, -0.1574, -0.1999, -0.4409, -0.3306, -0.3544, -0.336, 0.6284, -0.2382, -0.3545, -0.3803, -0.3867, -0.432, -0.3028, -0.5995, -0.5181, -0.3614, -0.3742, -0.4824, -0.6241, -0.35, -0.4665, -0.5336, -0.326, -0.6395, -0.4359, -0.3396, -0.3453, -0.6428, -0.5124, -0.4585, -0.4969, -0.4696, -0.5015, -0.6736, -0.6397, -0.4162, -0.5183, -0.4001, -0.3083, -0.6773, -0.2576, -0.4576, -0.3275, -0.4799, -0.4166, -0.3697, -0.4722, -0.6453, -0.4812, -0.5655])\n",
       "</div>"
      ]
     },
     "metadata": {},
     "output_type": "display_data"
    }
   ],
   "source": [
    "# Print the coefficients and intercept for logistic regression with regularization\n",
    "lrm = fit1.stages[-1]\n",
    "lrm.coefficients"
   ]
  },
  {
   "cell_type": "markdown",
   "metadata": {},
   "source": [
    "Accuracy is calculated using Multiclass Classification Evaluator and it is found to be 68%"
   ]
  },
  {
   "cell_type": "code",
   "execution_count": 37,
   "metadata": {},
   "outputs": [
    {
     "data": {
      "text/html": [
       "<style scoped>\n",
       "  .ansiout {\n",
       "    display: block;\n",
       "    unicode-bidi: embed;\n",
       "    white-space: pre-wrap;\n",
       "    word-wrap: break-word;\n",
       "    word-break: break-all;\n",
       "    font-family: \"Source Code Pro\", \"Menlo\", monospace;;\n",
       "    font-size: 13px;\n",
       "    color: #555;\n",
       "    margin-left: 4px;\n",
       "    line-height: 19px;\n",
       "  }\n",
       "</style>\n",
       "<div class=\"ansiout\">Test Error = 0.316902\n",
       "</div>"
      ]
     },
     "metadata": {},
     "output_type": "display_data"
    }
   ],
   "source": [
    "#Accuracy of model1\n",
    "evaluator = MulticlassClassificationEvaluator(labelCol = 'encoded_Fatalaccident', predictionCol = 'prediction',metricName = 'accuracy')\n",
    "accuracy1 = evaluator.evaluate(dataframe1)\n",
    "#Error percentage:\n",
    "print(\"Test Error = %g\" % (1.0 - accuracy1))"
   ]
  },
  {
   "cell_type": "markdown",
   "metadata": {},
   "source": [
    "MODEL 2: **Random Forest**\n",
    "\n",
    "The feature Engineering techniques used are:\n",
    "\n",
    "**StringIndexer**\n",
    "\n",
    "**OneHotEncoder**\n",
    "\n",
    "**Bucketizer**(For Time)\n",
    "\n",
    "All these techniques are pipelined and the Machine Learning models are fitted with the training data and validated on validation data"
   ]
  },
  {
   "cell_type": "code",
   "execution_count": 39,
   "metadata": {},
   "outputs": [
    {
     "data": {
      "text/html": [
       "<style scoped>\n",
       "  .ansiout {\n",
       "    display: block;\n",
       "    unicode-bidi: embed;\n",
       "    white-space: pre-wrap;\n",
       "    word-wrap: break-word;\n",
       "    word-break: break-all;\n",
       "    font-family: \"Source Code Pro\", \"Menlo\", monospace;;\n",
       "    font-size: 13px;\n",
       "    color: #555;\n",
       "    margin-left: 4px;\n",
       "    line-height: 19px;\n",
       "  }\n",
       "</style>\n",
       "<div class=\"ansiout\"></div>"
      ]
     },
     "metadata": {},
     "output_type": "display_data"
    }
   ],
   "source": [
    "#Model 2\n",
    "model2 = Pipeline(stages=[feature.StringIndexer(inputCol='Month', outputCol='encoded_Month'),\n",
    "                          feature.StringIndexer(inputCol = 'County Name',outputCol = 'encoded_County'),\n",
    "                          feature.StringIndexer(inputCol = 'Day of Week',outputCol = 'encoded_Day'),\n",
    "                          feature.StringIndexer(inputCol = 'Fatal Accident',outputCol = 'encoded_Fatalaccident'),\n",
    "                          feature.StringIndexer(inputCol = 'Time',outputCol = 'encoded_Time'),\n",
    "                          feature.OneHotEncoder(inputCol = 'encoded_Month',outputCol = 'final_Month'),\n",
    "                          feature.OneHotEncoder(inputCol = 'encoded_Day',outputCol = 'final_Day'),\n",
    "                          feature.OneHotEncoder(inputCol = 'encoded_County',outputCol = 'final_County'),\n",
    "                          feature.Bucketizer(splits=splits, inputCol='encoded_Time', outputCol=\"bucketed_Time\"),\n",
    "                 feature.VectorAssembler(inputCols = ['final_Month','final_Day','bucketed_Time','final_County'],outputCol = 'final_features'),\n",
    "  classification.RandomForestClassifier(labelCol='encoded_Fatalaccident', featuresCol='final_features',numTrees = 100,maxDepth = 4)])"
   ]
  },
  {
   "cell_type": "code",
   "execution_count": 40,
   "metadata": {},
   "outputs": [
    {
     "data": {
      "text/html": [
       "<style scoped>\n",
       "  .ansiout {\n",
       "    display: block;\n",
       "    unicode-bidi: embed;\n",
       "    white-space: pre-wrap;\n",
       "    word-wrap: break-word;\n",
       "    word-break: break-all;\n",
       "    font-family: \"Source Code Pro\", \"Menlo\", monospace;;\n",
       "    font-size: 13px;\n",
       "    color: #555;\n",
       "    margin-left: 4px;\n",
       "    line-height: 19px;\n",
       "  }\n",
       "</style>\n",
       "<div class=\"ansiout\"></div>"
      ]
     },
     "metadata": {},
     "output_type": "display_data"
    }
   ],
   "source": [
    "#Fitting model2 with training data\n",
    "fit2 = model2.fit(training)"
   ]
  },
  {
   "cell_type": "code",
   "execution_count": 41,
   "metadata": {},
   "outputs": [
    {
     "data": {
      "text/html": [
       "<style scoped>\n",
       "  .ansiout {\n",
       "    display: block;\n",
       "    unicode-bidi: embed;\n",
       "    white-space: pre-wrap;\n",
       "    word-wrap: break-word;\n",
       "    word-break: break-all;\n",
       "    font-family: \"Source Code Pro\", \"Menlo\", monospace;;\n",
       "    font-size: 13px;\n",
       "    color: #555;\n",
       "    margin-left: 4px;\n",
       "    line-height: 19px;\n",
       "  }\n",
       "</style>\n",
       "<div class=\"ansiout\"></div>"
      ]
     },
     "metadata": {},
     "output_type": "display_data"
    }
   ],
   "source": [
    "#Transforming model1 on to validation data\n",
    "dataframe2 = fit2.transform(validation)"
   ]
  },
  {
   "cell_type": "markdown",
   "metadata": {},
   "source": [
    "Accuracy is calculated using MultiClass Classification Evaluator and it comes to be 63%"
   ]
  },
  {
   "cell_type": "code",
   "execution_count": 43,
   "metadata": {},
   "outputs": [
    {
     "data": {
      "text/html": [
       "<style scoped>\n",
       "  .ansiout {\n",
       "    display: block;\n",
       "    unicode-bidi: embed;\n",
       "    white-space: pre-wrap;\n",
       "    word-wrap: break-word;\n",
       "    word-break: break-all;\n",
       "    font-family: \"Source Code Pro\", \"Menlo\", monospace;;\n",
       "    font-size: 13px;\n",
       "    color: #555;\n",
       "    margin-left: 4px;\n",
       "    line-height: 19px;\n",
       "  }\n",
       "</style>\n",
       "<div class=\"ansiout\">Test Error = 0.366955\n",
       "0.63304487555\n",
       "</div>"
      ]
     },
     "metadata": {},
     "output_type": "display_data"
    }
   ],
   "source": [
    "#Accuracy\n",
    "evaluator = MulticlassClassificationEvaluator(labelCol = 'encoded_Fatalaccident', predictionCol = 'prediction',metricName = 'accuracy')\n",
    "accuracy2 = evaluator.evaluate(dataframe2)\n",
    "#Error percentage:\n",
    "print(\"Test Error = %g\" % (1.0 - accuracy2))\n",
    "print(accuracy2)"
   ]
  },
  {
   "cell_type": "markdown",
   "metadata": {},
   "source": [
    "MODEL 3: **Gradient Boosting**\n",
    "\n",
    "The feature Engineering techniques used are:\n",
    "\n",
    "**StringIndexer**\n",
    "\n",
    "**OneHotEncoder**\n",
    "\n",
    "**Bucketizer**(For Time)\n",
    "\n",
    "All these techniques are pipelined and the Machine Learning models are fitted with the training data and validated on validation data"
   ]
  },
  {
   "cell_type": "code",
   "execution_count": 45,
   "metadata": {},
   "outputs": [
    {
     "data": {
      "text/html": [
       "<style scoped>\n",
       "  .ansiout {\n",
       "    display: block;\n",
       "    unicode-bidi: embed;\n",
       "    white-space: pre-wrap;\n",
       "    word-wrap: break-word;\n",
       "    word-break: break-all;\n",
       "    font-family: \"Source Code Pro\", \"Menlo\", monospace;;\n",
       "    font-size: 13px;\n",
       "    color: #555;\n",
       "    margin-left: 4px;\n",
       "    line-height: 19px;\n",
       "  }\n",
       "</style>\n",
       "<div class=\"ansiout\"></div>"
      ]
     },
     "metadata": {},
     "output_type": "display_data"
    }
   ],
   "source": [
    "#Model 3\n",
    "model3 = Pipeline(stages=[feature.StringIndexer(inputCol='Month', outputCol='encoded_Month'),\n",
    "                          feature.StringIndexer(inputCol = 'County Name',outputCol = 'encoded_County'),\n",
    "                          feature.StringIndexer(inputCol = 'Day of Week',outputCol = 'encoded_Day'),\n",
    "                          feature.StringIndexer(inputCol = 'Fatal Accident',outputCol = 'encoded_Fatalaccident'),\n",
    "                          feature.StringIndexer(inputCol = 'Time',outputCol = 'encoded_Time'),\n",
    "                          feature.OneHotEncoder(inputCol = 'encoded_Month',outputCol = 'final_Month'),\n",
    "                          feature.OneHotEncoder(inputCol = 'encoded_Day',outputCol = 'final_Day'),\n",
    "                          feature.OneHotEncoder(inputCol = 'encoded_County',outputCol = 'final_County'),\n",
    "                          feature.Bucketizer(splits=splits, inputCol='encoded_Time', outputCol=\"bucketed_Time\"),\n",
    "                 feature.VectorAssembler(inputCols = ['final_Month','final_Day','bucketed_Time','final_County'],outputCol = 'final_features'),\n",
    "                 classification.GBTClassifier(labelCol='encoded_Fatalaccident', featuresCol='final_features',maxIter = 10)])"
   ]
  },
  {
   "cell_type": "code",
   "execution_count": 46,
   "metadata": {},
   "outputs": [
    {
     "data": {
      "text/html": [
       "<style scoped>\n",
       "  .ansiout {\n",
       "    display: block;\n",
       "    unicode-bidi: embed;\n",
       "    white-space: pre-wrap;\n",
       "    word-wrap: break-word;\n",
       "    word-break: break-all;\n",
       "    font-family: \"Source Code Pro\", \"Menlo\", monospace;;\n",
       "    font-size: 13px;\n",
       "    color: #555;\n",
       "    margin-left: 4px;\n",
       "    line-height: 19px;\n",
       "  }\n",
       "</style>\n",
       "<div class=\"ansiout\"></div>"
      ]
     },
     "metadata": {},
     "output_type": "display_data"
    }
   ],
   "source": [
    "#Fitting model2 with training data\n",
    "fit3 = model3.fit(training)"
   ]
  },
  {
   "cell_type": "code",
   "execution_count": 47,
   "metadata": {},
   "outputs": [
    {
     "data": {
      "text/html": [
       "<style scoped>\n",
       "  .ansiout {\n",
       "    display: block;\n",
       "    unicode-bidi: embed;\n",
       "    white-space: pre-wrap;\n",
       "    word-wrap: break-word;\n",
       "    word-break: break-all;\n",
       "    font-family: \"Source Code Pro\", \"Menlo\", monospace;;\n",
       "    font-size: 13px;\n",
       "    color: #555;\n",
       "    margin-left: 4px;\n",
       "    line-height: 19px;\n",
       "  }\n",
       "</style>\n",
       "<div class=\"ansiout\"></div>"
      ]
     },
     "metadata": {},
     "output_type": "display_data"
    }
   ],
   "source": [
    "#Transforming model2 on to validation data\n",
    "dataframe3 = fit3.transform(validation)"
   ]
  },
  {
   "cell_type": "markdown",
   "metadata": {},
   "source": [
    "Accuracy is calculated using MultiClass Classification Evaluator and it is found to be 69%"
   ]
  },
  {
   "cell_type": "code",
   "execution_count": 49,
   "metadata": {},
   "outputs": [
    {
     "data": {
      "text/html": [
       "<style scoped>\n",
       "  .ansiout {\n",
       "    display: block;\n",
       "    unicode-bidi: embed;\n",
       "    white-space: pre-wrap;\n",
       "    word-wrap: break-word;\n",
       "    word-break: break-all;\n",
       "    font-family: \"Source Code Pro\", \"Menlo\", monospace;;\n",
       "    font-size: 13px;\n",
       "    color: #555;\n",
       "    margin-left: 4px;\n",
       "    line-height: 19px;\n",
       "  }\n",
       "</style>\n",
       "<div class=\"ansiout\">Test Error = 0.31587\n",
       "</div>"
      ]
     },
     "metadata": {},
     "output_type": "display_data"
    }
   ],
   "source": [
    "#Accuracy\n",
    "evaluator = MulticlassClassificationEvaluator(labelCol = 'encoded_Fatalaccident', predictionCol = 'prediction',metricName = 'accuracy')\n",
    "accuracy3 = evaluator.evaluate(dataframe3)\n",
    "#Error percentage:\n",
    "print(\"Test Error = %g\" % (1.0 - accuracy3))"
   ]
  },
  {
   "cell_type": "code",
   "execution_count": 50,
   "metadata": {},
   "outputs": [
    {
     "data": {
      "text/html": [
       "<style scoped>\n",
       "  .ansiout {\n",
       "    display: block;\n",
       "    unicode-bidi: embed;\n",
       "    white-space: pre-wrap;\n",
       "    word-wrap: break-word;\n",
       "    word-break: break-all;\n",
       "    font-family: \"Source Code Pro\", \"Menlo\", monospace;;\n",
       "    font-size: 13px;\n",
       "    color: #555;\n",
       "    margin-left: 4px;\n",
       "    line-height: 19px;\n",
       "  }\n",
       "</style>\n",
       "<div class=\"ansiout\">(&apos;LogisticRegression: &apos;, 0.6830981593380535)\n",
       "(&apos;RandomForest: &apos;, 0.6330448755502737)\n",
       "(&apos;GradientBoosting: &apos;, 0.6841303583683445)\n",
       "</div>"
      ]
     },
     "metadata": {},
     "output_type": "display_data"
    }
   ],
   "source": [
    "print('LogisticRegression: ',accuracy1)\n",
    "print('RandomForest: ' ,accuracy2)\n",
    "print('GradientBoosting: ' , accuracy3)"
   ]
  },
  {
   "cell_type": "markdown",
   "metadata": {},
   "source": [
    "**Gradient Boosting** is applied to the final 10% test data since it gave the highest accuracy using Validation Data"
   ]
  },
  {
   "cell_type": "code",
   "execution_count": 52,
   "metadata": {},
   "outputs": [
    {
     "data": {
      "text/html": [
       "<style scoped>\n",
       "  .ansiout {\n",
       "    display: block;\n",
       "    unicode-bidi: embed;\n",
       "    white-space: pre-wrap;\n",
       "    word-wrap: break-word;\n",
       "    word-break: break-all;\n",
       "    font-family: \"Source Code Pro\", \"Menlo\", monospace;;\n",
       "    font-size: 13px;\n",
       "    color: #555;\n",
       "    margin-left: 4px;\n",
       "    line-height: 19px;\n",
       "  }\n",
       "</style>\n",
       "<div class=\"ansiout\"></div>"
      ]
     },
     "metadata": {},
     "output_type": "display_data"
    }
   ],
   "source": [
    "#Model3(Gradient Boosting ) will be our final model.\n",
    "#Applying Gradient Boosting to test data\n",
    "dataframe_test = fit3.transform(test)"
   ]
  },
  {
   "cell_type": "markdown",
   "metadata": {},
   "source": [
    "Final Accuracy for the test data was calculated using MultiClass Classification Evaluator and it was found to be **69%** and the best model is **Gradient Boosting**"
   ]
  },
  {
   "cell_type": "code",
   "execution_count": 54,
   "metadata": {},
   "outputs": [
    {
     "data": {
      "text/html": [
       "<style scoped>\n",
       "  .ansiout {\n",
       "    display: block;\n",
       "    unicode-bidi: embed;\n",
       "    white-space: pre-wrap;\n",
       "    word-wrap: break-word;\n",
       "    word-break: break-all;\n",
       "    font-family: \"Source Code Pro\", \"Menlo\", monospace;;\n",
       "    font-size: 13px;\n",
       "    color: #555;\n",
       "    margin-left: 4px;\n",
       "    line-height: 19px;\n",
       "  }\n",
       "</style>\n",
       "<div class=\"ansiout\">Test Error = 0.31459\n",
       "Final accuracy of the model is : 0.685409759462\n",
       "</div>"
      ]
     },
     "metadata": {},
     "output_type": "display_data"
    }
   ],
   "source": [
    "#Accuracy of the selected model is 69%\n",
    "evaluator = MulticlassClassificationEvaluator(labelCol = 'encoded_Fatalaccident', predictionCol = 'prediction',metricName = 'accuracy')\n",
    "final_accuracy = evaluator.evaluate(dataframe_test)\n",
    "#Error percentage:\n",
    "print(\"Test Error = %g\" % (1.0 - final_accuracy))\n",
    "print 'Final accuracy of the model is :',final_accuracy"
   ]
  }
 ],
 "metadata": {
  "kernelspec": {
   "display_name": "Python 3",
   "language": "python",
   "name": "python3"
  },
  "language_info": {
   "codemirror_mode": {
    "name": "ipython",
    "version": 3
   },
   "file_extension": ".py",
   "mimetype": "text/x-python",
   "name": "python",
   "nbconvert_exporter": "python",
   "pygments_lexer": "ipython3",
   "version": "3.6.3"
  },
  "name": "IST 718",
  "notebookId": 160553952640769
 },
 "nbformat": 4,
 "nbformat_minor": 1
}
